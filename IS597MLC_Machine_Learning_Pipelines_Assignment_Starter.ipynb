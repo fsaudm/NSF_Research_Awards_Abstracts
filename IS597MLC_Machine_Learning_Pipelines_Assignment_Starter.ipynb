{
  "cells": [
    {
      "cell_type": "markdown",
      "metadata": {
        "id": "2zUom9hAsSIv"
      },
      "source": [
        "# IS597MLC: Machine Learning Pipelines Assignment"
      ]
    },
    {
      "cell_type": "markdown",
      "metadata": {
        "id": "4vZl9wx2UBET"
      },
      "source": [
        "### Student Name:   \n",
        "### Net ID:  "
      ]
    },
    {
      "cell_type": "markdown",
      "metadata": {
        "id": "4J32GZ_mscTd"
      },
      "source": [
        "# Instruction"
      ]
    },
    {
      "cell_type": "markdown",
      "metadata": {
        "id": "YETKCdGWscWQ"
      },
      "source": [
        "#### * This assignment consists of 4 exercises. Each exercise contains several tasks shown in bold. You are required to write your code in a cell with a comment \"Insert your code here\" included. You may add more cells if needed. The expected output is displayed for each exercise so that you can compare it with the one from your own code.    \n",
        "\n",
        "#### * Please be aware that there is no one absolute solution to answer a question, i.e., tasks can have multiple correct solution methods you can choose from. You may want to refer to the codes used for previous assignments or class activity.\n",
        "\n",
        "#### * Once you have completed all exercises, change the file name by adding your surname and given name at the end of file name (e.g., IS597MLC_Machine_Learning_Pipeline_Assignment_Kim_Jenna.ipynb).  \n",
        "\n",
        "#### * You are required to use a AWS Academy Learner Lab for this assignment. Please see detailed instruction for providng an evidence document at the bottom of this notebook.\n",
        "\n",
        "#### * Please make sure that all the codes in the updated Jupyter Notebook run properly before submission. If a grader encounters an error while attempting to run your codes, points will be deducted even if they look correct. If you are sure your files are ready to go, upload a zipped file to UIUC Canvas assignment section. Your submitted zipped file should include the following items:  \n",
        "- Updated Jupyter Notebook with your codes included\n",
        "- dataset file in .zip  \n",
        "- a screenshot of your notebook showing the AWS SageMaker URL at the top"
      ]
    },
    {
      "cell_type": "markdown",
      "metadata": {
        "id": "KjDQGl91wA78"
      },
      "source": [
        "# Set up"
      ]
    },
    {
      "cell_type": "markdown",
      "metadata": {
        "id": "saBSw8d6s27x"
      },
      "source": [
        "### Libraries"
      ]
    },
    {
      "cell_type": "code",
      "execution_count": null,
      "metadata": {
        "id": "7OIb10PFrF-U"
      },
      "outputs": [],
      "source": [
        "#### Check pre-installed Python packages\n",
        "#!pip list"
      ]
    },
    {
      "cell_type": "code",
      "execution_count": null,
      "metadata": {
        "id": "iCQmTfQRrF-S"
      },
      "outputs": [],
      "source": [
        "import time\n",
        "from datetime import timedelta\n",
        "import pandas as pd\n",
        "import nltk\n",
        "from nltk.corpus import stopwords\n",
        "nltk.download('punkt')\n",
        "nltk.download('stopwords')\n",
        "nltk.download('wordnet')\n",
        "nltk.download('omw-1.4')\n",
        "from nltk.stem import PorterStemmer, WordNetLemmatizer\n",
        "from sklearn.model_selection import train_test_split"
      ]
    },
    {
      "cell_type": "markdown",
      "metadata": {
        "id": "Iq-0Xq3m7991"
      },
      "source": [
        "### Data set"
      ]
    },
    {
      "cell_type": "markdown",
      "metadata": {
        "id": "dLPLr9KR8Dom"
      },
      "source": [
        "#### Use the data set provided by the instructor. The information about the data set can be found in the instructions file."
      ]
    },
    {
      "cell_type": "markdown",
      "metadata": {
        "id": "_BMtd_QustFm"
      },
      "source": [
        "# Exercise 1 (Regular)"
      ]
    },
    {
      "cell_type": "markdown",
      "source": [
        "## 1-1. Problem formulation    \n",
        "#### Formulate your research or business question(s) you can think of when you plan to use the dataset provided. You can provide 1 or multiple questions depending on your ideas."
      ],
      "metadata": {
        "id": "4K7ojuxqWC5L"
      }
    },
    {
      "cell_type": "markdown",
      "source": [
        "### Insert your answer here.     \n",
        "* Research Question 1:  \n"
      ],
      "metadata": {
        "id": "HfcVtke_WLAc"
      }
    },
    {
      "cell_type": "markdown",
      "source": [
        "## 1-2. Provide information about the dataset you use:  \n",
        "* Dataset Info: a brief description of the data set (name, provider, source link, etc)  \n",
        "* Data Description: detailed info about the data. Your answer should include the following items:\n",
        "\n",
        "  - data size  \n",
        "  - number of instances & attributes  \n",
        "  - detailed info for each attribute"
      ],
      "metadata": {
        "id": "AVOSX1jKWelT"
      }
    },
    {
      "cell_type": "markdown",
      "source": [
        "### Insert your answer here.  \n",
        "* Dataset Info:    \n",
        "* Data Description:"
      ],
      "metadata": {
        "id": "60-ahoMZYFCn"
      }
    },
    {
      "cell_type": "markdown",
      "source": [
        "# Exercise 2 (Regular)    "
      ],
      "metadata": {
        "id": "4n8RQAOLYXYZ"
      }
    },
    {
      "cell_type": "markdown",
      "source": [
        "## Ex 2-1. Unzip dataset file & extract data  \n",
        "* Unzip the file if zipped  \n",
        "* Extract data from files stored in subfolders in your unzipped dataset.    \n",
        "* Create a dataframe using Pandas to contain all the extracted instances."
      ],
      "metadata": {
        "id": "J6ZBaLBQryw5"
      }
    },
    {
      "cell_type": "code",
      "source": [
        "## Insert your code here\n",
        "\n"
      ],
      "metadata": {
        "id": "pd1IjHu0U9li"
      },
      "execution_count": 9,
      "outputs": []
    },
    {
      "cell_type": "code",
      "source": [
        "## Insert your code here\n"
      ],
      "metadata": {
        "id": "JY4OvMJHQP3j"
      },
      "execution_count": 10,
      "outputs": []
    },
    {
      "cell_type": "markdown",
      "metadata": {
        "id": "_ljLeDQDKurM"
      },
      "source": [
        "## Ex 2-2. Create a function\n",
        "* Create a function named 'load_data' to load data from the unzipped dataset.\n",
        "* Include the code you used for Exercise 2-1 except for the one for unzipping.   \n",
        "* Include a code to select columns that contain the features and target class that you want to use for model training.  \n",
        "* You function should display the output for each step.\n",
        "* Note: make sure to include a comment (using # or \"\"\") at the top in each function that briefly describes what your code does."
      ]
    },
    {
      "cell_type": "code",
      "execution_count": 8,
      "metadata": {
        "id": "ZId3r7iLLipc"
      },
      "outputs": [],
      "source": [
        "# Insert your code here\n",
        "\n",
        "\n",
        ""
      ]
    },
    {
      "cell_type": "markdown",
      "source": [
        "# Exercise 3 (Regular)"
      ],
      "metadata": {
        "id": "C-U5VIKVa-Ac"
      }
    },
    {
      "cell_type": "markdown",
      "source": [
        "## Ex 3-1. Pre-processing Data   \n",
        "\n",
        "* Create function named \"preprocess_data\" that contain cleaning steps to apply on data from the columns you selected in the previous exercise.  \n",
        "* This function should include at least 5 pre-processing strategies. e.g., removing duplicates, label encoding, lowercase conversion, trimming, etc.    \n",
        "* Make sure that your function displays the output after each step included.   \n",
        "     \n",
        "* Note: Make sure to include a comment (using # or ''') at the top in the function that briefly describes what your codes do."
      ],
      "metadata": {
        "id": "UAh9Xd-3bNUH"
      }
    },
    {
      "cell_type": "code",
      "execution_count": 4,
      "metadata": {
        "id": "Kx6Q8w3lrF-X"
      },
      "outputs": [],
      "source": [
        "# Insert your code here\n",
        "\n",
        "\n"
      ]
    },
    {
      "cell_type": "markdown",
      "metadata": {
        "id": "j28wFzX6Rfn7"
      },
      "source": [
        "\n",
        "## Ex 3-2. Splitting Data  \n",
        "* Create a function named \"split_data\" that do the following three steps:  \n",
        "  * Split the cleaned data into X_data (features) and y_data (label)  \n",
        "  * Split data into 3 subsets: train, validation, and test.    \n",
        "  * Reset indexes of instances for X_data and y_data in each subset.    \n",
        "\n",
        "* You can creat one function for all three steps or separate function for each one.\n",
        "\n",
        "* Your function(s) shoud also display the following output:\n",
        "\n",
        "  * Count of rows and columns before and after splitting.\n",
        "  * First 3 instances of a X_data and y_data pair for each subset after splitting\n",
        "  * Distribution of class label for all three subsets after splitting.  \n",
        "\n",
        "\n",
        "* Note: Try to use a descriptive function name that clearly shows the intent of that function. Make sure to include a comment (using # or ''') at the top of each function that briefly describes what your codes do.   "
      ]
    },
    {
      "cell_type": "code",
      "execution_count": 5,
      "metadata": {
        "id": "6onXzUw7V3Ek"
      },
      "outputs": [],
      "source": [
        "# Insert your code here\n",
        "\n"
      ]
    },
    {
      "cell_type": "markdown",
      "metadata": {
        "id": "se95oEEhYwFv"
      },
      "source": [
        "## Ex 3-3. Call funtions  \n",
        "* Write a code that calls each function in order with the data you load.   \n",
        "* After running this cell, all of the output is expected to display as resuts."
      ]
    },
    {
      "cell_type": "code",
      "execution_count": 6,
      "metadata": {
        "id": "bOsP3rt7YwTx",
        "scrolled": false
      },
      "outputs": [],
      "source": [
        "## Insert your code here\n",
        "\n"
      ]
    },
    {
      "cell_type": "markdown",
      "metadata": {
        "id": "rX4bRu4PUBE5"
      },
      "source": [
        "# Exercise 4 (Challenge)   \n",
        "* Please provide a screen shot (.png or .jpeg file) of the part of your notebook including AWS SageMaker Notebook instace URL at the top in your image. Include the image named \"IS597MLC-YourSurname-YourFirstName\" in your submitted zipped file."
      ]
    },
    {
      "cell_type": "code",
      "source": [],
      "metadata": {
        "id": "XnMTIRRGNS6p"
      },
      "execution_count": null,
      "outputs": []
    }
  ],
  "metadata": {
    "colab": {
      "provenance": []
    },
    "kernelspec": {
      "display_name": "conda_python3",
      "language": "python",
      "name": "conda_python3"
    },
    "language_info": {
      "codemirror_mode": {
        "name": "ipython",
        "version": 3
      },
      "file_extension": ".py",
      "mimetype": "text/x-python",
      "name": "python",
      "nbconvert_exporter": "python",
      "pygments_lexer": "ipython3",
      "version": "3.10.13"
    }
  },
  "nbformat": 4,
  "nbformat_minor": 0
}